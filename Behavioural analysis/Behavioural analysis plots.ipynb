{
 "cells": [
  {
   "cell_type": "code",
   "execution_count": 18,
   "metadata": {},
   "outputs": [],
   "source": [
    "import pandas as pd\n",
    "import json\n",
    "import numpy as np\n",
    "import re\n",
    "from ast import literal_eval\n",
    "import matplotlib.pyplot as plt\n"
   ]
  },
  {
   "cell_type": "code",
   "execution_count": 33,
   "metadata": {},
   "outputs": [],
   "source": [
    "'''\n",
    "The json data contain participant number, the iteration audio name, the rating, and the melody audio number\n",
    "\n",
    "'OriginalAudio': indicates the particular iteration the audio file is retrieved from.\n",
    "'''\n",
    "\n",
    "f =open(\"behavioural_results.json\")"
   ]
  },
  {
   "cell_type": "code",
   "execution_count": 20,
   "metadata": {},
   "outputs": [],
   "source": [
    "data = json.loads(f.read())"
   ]
  },
  {
   "cell_type": "code",
   "execution_count": 21,
   "metadata": {},
   "outputs": [],
   "source": [
    "file_names = {'pop':['pop_audio4','pop_audio10','pop_audio13','pop_audio16','pop_audio30','pop_audio23'],\n",
    "             'bach':['01ausmei','03achgot','09ermunt','14oherre','15christ','catech1'],\n",
    "             'jazz':['jazz_audio1','jazz_audio8','jazz_audio10','jazz_audio2','jazz_audio17','jazz_audio4'],\n",
    "             'classical':['Beth_audio_1','Choplin_audio_4','Choplin_audio_6','Mozart_audio_3','muss_1','Schubert_audio_2']}"
   ]
  },
  {
   "cell_type": "code",
   "execution_count": 34,
   "metadata": {},
   "outputs": [],
   "source": [
    "# data"
   ]
  },
  {
   "cell_type": "code",
   "execution_count": 22,
   "metadata": {},
   "outputs": [],
   "source": [
    "# Arr to store the data\n",
    "pop = []\n",
    "bach=[]\n",
    "jazz=[]\n",
    "classical=[]"
   ]
  },
  {
   "cell_type": "code",
   "execution_count": 31,
   "metadata": {},
   "outputs": [],
   "source": [
    "# Classifies the data into genres to do the analysis\n",
    "def classify_data(data):\n",
    "    pop = []\n",
    "    bach=[]\n",
    "    jazz=[]\n",
    "    classical=[]\n",
    "    for i in data:\n",
    "#         retireves the first index\n",
    "        all_items=list(data[i].values())[0]\n",
    "\n",
    "        for item in all_items:\n",
    "\n",
    "            original_audio = item['OriginalAudio']\n",
    "            rating =  int(item['Rating'])\n",
    "    #         print(type(rating))\n",
    "            iteration=item['iteration']\n",
    "#             print(iteration)\n",
    "            sep = '/'\n",
    "#     Gets the iteration number and audio name\n",
    "            audio_name = original_audio.split(sep, 1)[0]\n",
    "            iteration_name = iteration.split(sep,1)[1]\n",
    "            genre_name = \"\"\n",
    "            for i in file_names:\n",
    "\n",
    "                for a in file_names[i]:\n",
    "                    if a == audio_name:\n",
    "                        genre_name = i\n",
    "    #                     print(genre_name)\n",
    "                        break\n",
    "#         appends it to array\n",
    "            if genre_name =='jazz':\n",
    "                jazz.append([audio_name,iteration_name,int(rating)])\n",
    "            elif genre_name =='pop':\n",
    "                pop.append([audio_name,iteration_name,int(rating)])\n",
    "            elif genre_name=='bach':\n",
    "                bach.append([audio_name,iteration_name,int(rating)])\n",
    "            elif genre_name=='classical':\n",
    "                classical.append([audio_name,iteration_name,int(rating)])\n",
    "    return pop,jazz,classical,bach\n"
   ]
  },
  {
   "cell_type": "code",
   "execution_count": 30,
   "metadata": {},
   "outputs": [],
   "source": [
    "pop,jazz,classical,bach=classify_data(data)\n",
    "pop_df = pd.DataFrame(pop,columns=['Audio name','Iterations','Rating'])\n",
    "\n",
    "iterations = pop_df['Iterations']\n",
    "rating = pop_df['Rating']\n",
    "# pop_df"
   ]
  },
  {
   "cell_type": "code",
   "execution_count": 29,
   "metadata": {},
   "outputs": [],
   "source": [
    "\n",
    "'''\n",
    "Plots the behavioural analysis plot, arr and title as input\n",
    "\n",
    "arr: Pop, bach,classical, jazz\n",
    "'''\n",
    "def plot_analysis(arr,title):\n",
    "    df = pd.DataFrame(arr,columns=['Audio name','Iteration','Rating'])\n",
    "    number_of_iterations = sorted(set(df['Iteration']))\n",
    "#     print(df)\n",
    "    labels =[]\n",
    "    CTEs=[]\n",
    "    errors=[]\n",
    "    \n",
    "    for i in number_of_iterations:\n",
    "        iteration = df.loc[df['Iteration']==i]\n",
    "        rating = iteration['Rating']\n",
    "#         print(rating)\n",
    "        std_error = np.std(rating, ddof=1) / np.sqrt(len(rating))\n",
    "#         print(std_error)\n",
    "        average = np.mean(rating)\n",
    "#         print(average)\n",
    "        CTEs.append(average)\n",
    "        errors.append(std_error)\n",
    "        if i==\"initial_iteration\":\n",
    "            labels.append(\"Iteration1\")\n",
    "        elif i==\"iteration1\":\n",
    "            labels.append('Iteration2')\n",
    "        elif i==\"iteration2\":\n",
    "            labels.append(\"Iteration3\")\n",
    "        elif i==\"iteration3\":\n",
    "            labels.append(\"Iteration4\")\n",
    "        \n",
    "    \n",
    "    x_pos = np.arange(len(labels))\n",
    "    print(x_pos)\n",
    "    fig = plt.figure(figsize = (5,5))\n",
    "    plt.rcParams[\"font.family\"] = \"Times New Roman\"\n",
    "\n",
    "    ax = fig.subplots()\n",
    "    \n",
    "#     x_ticks_labels=[\"Definitely not the melody I hummed\",\"A bit like the melody I hummed\",\"It is exactly the melody I hummed\"]\n",
    "    ax.bar(x_pos, CTEs,\n",
    "           yerr=errors,\n",
    "           align='center',\n",
    "           color=\"silver\",\n",
    "           capsize=15,width=0.5)\n",
    "    ax.set_ylabel('',fontsize=25)\n",
    "    ax.set_title(title,fontsize=20,fontweight=\"bold\")\n",
    "\n",
    "    ax.set_xticks(x_pos)\n",
    "    ax.set_xticklabels(labels,fontsize=12)\n",
    "    ax.set_yticks([1,3,5])\n",
    "#     ax.set_yticklabels(x_ticks_labels,fontsize=10)\n",
    "    # ax.set_title('Deviation of correlation after each iteration for classical music pieces')\n",
    "    plt.xlabel('Iterations', fontsize=30)\n",
    "    plt.ylabel('Rating', fontsize=30)\n",
    "    plt.yticks(fontsize=18)\n",
    "\n",
    "    plt.xticks(fontsize=18)\n",
    "\n",
    "    # Save the figure and show\n",
    "    plt.tight_layout()\n",
    "    # plt.savefig('bar_plot_with_error_bars.png')\n",
    "    plt.show()\n"
   ]
  },
  {
   "cell_type": "code",
   "execution_count": 27,
   "metadata": {},
   "outputs": [
    {
     "name": "stdout",
     "output_type": "stream",
     "text": [
      "[0 1]\n"
     ]
    },
    {
     "data": {
      "image/png": "[encoded data removed]",
      "text/plain": [
       "<Figure size 360x360 with 1 Axes>"
      ]
     },
     "metadata": {
      "needs_background": "light"
     },
     "output_type": "display_data"
    }
   ],
   "source": [
    "plot_analysis(classical,\"Behavioural analysis\")"
   ]
  }
 ],
 "metadata": {
  "kernelspec": {
   "display_name": "Python 3",
   "language": "python",
   "name": "python3"
  },
  "language_info": {
   "codemirror_mode": {
    "name": "ipython",
    "version": 3
   },
   "file_extension": ".py",
   "mimetype": "text/x-python",
   "name": "python",
   "nbconvert_exporter": "python",
   "pygments_lexer": "ipython3",
   "version": "3.8.5"
  }
 },
 "nbformat": 4,
 "nbformat_minor": 4
}
