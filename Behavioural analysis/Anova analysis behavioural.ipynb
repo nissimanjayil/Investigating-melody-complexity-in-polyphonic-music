{
 "cells": [
  {
   "cell_type": "code",
   "execution_count": 1,
   "metadata": {},
   "outputs": [],
   "source": [
    "import numpy as np\n",
    "import pandas as pd\n",
    "import matplotlib as plt\n",
    "import scipy.stats as stats\n",
    "import json"
   ]
  },
  {
   "cell_type": "code",
   "execution_count": 2,
   "metadata": {},
   "outputs": [],
   "source": [
    "f =open(\"behavioural_results.json\")\n",
    "data = json.loads(f.read())\n",
    "file_names = {'pop':['pop_audio4','pop_audio10','pop_audio13','pop_audio16','pop_audio30','pop_audio23'],\n",
    "             'bach':['01ausmei','03achgot','09ermunt','14oherre','15christ','catech1'],\n",
    "             'jazz':['jazz_audio1','jazz_audio8','jazz_audio10','jazz_audio2','jazz_audio17','jazz_audio4'],\n",
    "             'classical':['Beth_audio_1','Choplin_audio_4','Choplin_audio_6','Mozart_audio_3','muss_1','Schubert_audio_2']}"
   ]
  },
  {
   "cell_type": "code",
   "execution_count": 3,
   "metadata": {},
   "outputs": [],
   "source": [
    "def classify_data(data):\n",
    "    pop = []\n",
    "    bach=[]\n",
    "    jazz=[]\n",
    "    classical=[]\n",
    "    for i in data:\n",
    "        all_items=list(data[i].values())[0]\n",
    "\n",
    "        for item in all_items:\n",
    "\n",
    "            original_audio = item['OriginalAudio']\n",
    "            rating =  int(item['Rating'])\n",
    "    #         print(type(rating))\n",
    "            iteration=item['iteration']\n",
    "#             print(iteration)\n",
    "            sep = '/'\n",
    "            audio_name = original_audio.split(sep, 1)[0]\n",
    "            iteration_name = iteration.split(sep,1)[1]\n",
    "            genre_name = \"\"\n",
    "            for i in file_names:\n",
    "\n",
    "                for a in file_names[i]:\n",
    "                    if a == audio_name:\n",
    "                        genre_name = i\n",
    "    #                     print(genre_name)\n",
    "                        break\n",
    "            if genre_name =='jazz':\n",
    "                jazz.append([audio_name,iteration_name,int(rating)])\n",
    "            elif genre_name =='pop':\n",
    "                pop.append([audio_name,iteration_name,int(rating)])\n",
    "            elif genre_name=='bach':\n",
    "                bach.append([audio_name,iteration_name,int(rating)])\n",
    "            elif genre_name=='classical':\n",
    "                classical.append([audio_name,iteration_name,int(rating)])\n",
    "    return pop,jazz,classical,bach\n"
   ]
  },
  {
   "cell_type": "code",
   "execution_count": 4,
   "metadata": {},
   "outputs": [],
   "source": [
    "pop,jazz,classical,bach=classify_data(data)"
   ]
  },
  {
   "cell_type": "code",
   "execution_count": 5,
   "metadata": {},
   "outputs": [],
   "source": [
    "\n",
    "from scipy.stats import f_oneway"
   ]
  },
  {
   "cell_type": "markdown",
   "metadata": {},
   "source": [
    "8 students participated in the analysis. The students are randomnly assigned audio files from different iterations. One way ANOVA to determine if the perceived melody is different across iterations for each genre.The students were asked to give a score(1,3,5) how melodic the melody extracted from algorithm.\n",
    "\n"
   ]
  },
  {
   "cell_type": "markdown",
   "metadata": {},
   "source": [
    "Null Hypothesis:The perceived melody decreases across iterations of the audio file"
   ]
  },
  {
   "cell_type": "code",
   "execution_count": 6,
   "metadata": {},
   "outputs": [
    {
     "name": "stdout",
     "output_type": "stream",
     "text": [
      "ANOVA RESULTS: POP MUSIC\n"
     ]
    },
    {
     "data": {
      "text/plain": [
       "F_onewayResult(statistic=3.232738911751258, pvalue=0.029955534780105864)"
      ]
     },
     "execution_count": 6,
     "metadata": {},
     "output_type": "execute_result"
    }
   ],
   "source": [
    "pop_df = pd.DataFrame(pop,columns=['Audio name','Iteration','Rating'])\n",
    "pop_initial_iteration = pop_df[pop_df['Iteration']=='initial_iteration']\n",
    "pop_iteration_1=pop_df[pop_df['Iteration']=='iteration1']\n",
    "pop_iteration_2=pop_df[pop_df['Iteration']=='iteration2']\n",
    "pop_iteration_3=pop_df[pop_df['Iteration']=='iteration3']\n",
    "\n",
    "pop_rating_init=pop_initial_iteration['Rating']\n",
    "pop_rating_1=pop_iteration_1['Rating']\n",
    "pop_rating_2=pop_iteration_2['Rating']\n",
    "pop_rating_3=pop_iteration_3['Rating']\n",
    "\n",
    "print(\"ANOVA RESULTS: POP MUSIC\")\n",
    "f_oneway(pop_rating_init,pop_rating_1,pop_rating_2,pop_rating_3)"
   ]
  },
  {
   "cell_type": "code",
   "execution_count": 7,
   "metadata": {},
   "outputs": [
    {
     "name": "stdout",
     "output_type": "stream",
     "text": [
      "ANOVA RESULTS: JAZZ MUSIC\n"
     ]
    },
    {
     "data": {
      "text/plain": [
       "F_onewayResult(statistic=1.594077373587395, pvalue=0.20250719020536867)"
      ]
     },
     "execution_count": 7,
     "metadata": {},
     "output_type": "execute_result"
    }
   ],
   "source": [
    "jazz_df = pd.DataFrame(jazz,columns=['Audio name','Iteration','Rating'])\n",
    "jazz_initial_iteration = jazz_df[jazz_df['Iteration']=='initial_iteration']\n",
    "jazz_iteration_1=jazz_df[jazz_df['Iteration']=='iteration1']\n",
    "jazz_iteration_2=jazz_df[jazz_df['Iteration']=='iteration2']\n",
    "jazz_iteration_3=jazz_df[jazz_df['Iteration']=='iteration3']\n",
    "\n",
    "\n",
    "jazz_rating_init=jazz_initial_iteration['Rating']\n",
    "jazz_rating_1=jazz_iteration_1['Rating']\n",
    "jazz_rating_2=jazz_iteration_2['Rating']\n",
    "jazz_rating_3=jazz_iteration_3['Rating']\n",
    "\n",
    "print(\"ANOVA RESULTS: JAZZ MUSIC\")\n",
    "\n",
    "f_oneway(jazz_rating_init,jazz_rating_1,jazz_rating_2,jazz_rating_3)"
   ]
  },
  {
   "cell_type": "code",
   "execution_count": 8,
   "metadata": {},
   "outputs": [
    {
     "name": "stdout",
     "output_type": "stream",
     "text": [
      "ANOVA RESULTS: BACH MUSIC\n"
     ]
    },
    {
     "data": {
      "text/plain": [
       "F_onewayResult(statistic=1.3623769594462725, pvalue=0.26500930160876174)"
      ]
     },
     "execution_count": 8,
     "metadata": {},
     "output_type": "execute_result"
    }
   ],
   "source": [
    "bach_df = pd.DataFrame(bach,columns=['Audio name','Iteration','Rating'])\n",
    "bach_initial_iteration = bach_df[bach_df['Iteration']=='initial_iteration']\n",
    "bach_iteration_1=bach_df[bach_df['Iteration']=='iteration1']\n",
    "bach_iteration_2=bach_df[bach_df['Iteration']=='iteration2']\n",
    "bach_iteration_3=bach_df[bach_df['Iteration']=='iteration3']\n",
    "\n",
    "\n",
    "bach_rating_init=bach_initial_iteration['Rating']\n",
    "bach_rating_1=bach_iteration_1['Rating']\n",
    "bach_rating_2=bach_iteration_2['Rating']\n",
    "bach_rating_3=bach_iteration_3['Rating']\n",
    "print(\"ANOVA RESULTS: BACH MUSIC\")\n",
    "\n",
    "f_oneway(bach_rating_init,bach_rating_1,bach_rating_2,bach_rating_3)"
   ]
  },
  {
   "cell_type": "code",
   "execution_count": 9,
   "metadata": {},
   "outputs": [
    {
     "name": "stdout",
     "output_type": "stream",
     "text": [
      "ANOVA RESULTS: CLASSICAL MUSIC\n"
     ]
    },
    {
     "data": {
      "text/plain": [
       "F_onewayResult(statistic=0.10432968179447052, pvalue=0.7493805690624464)"
      ]
     },
     "execution_count": 9,
     "metadata": {},
     "output_type": "execute_result"
    }
   ],
   "source": [
    "classical_df = pd.DataFrame(classical,columns=['Audio name','Iteration','Rating'])\n",
    "classical_initial_iteration = classical_df[classical_df['Iteration']=='initial_iteration']\n",
    "classical_iteration_1=classical_df[classical_df['Iteration']=='iteration1']\n",
    "\n",
    "\n",
    "classical_rating_init=bach_initial_iteration['Rating']\n",
    "classical_rating_1=bach_iteration_1['Rating']\n",
    "print(\"ANOVA RESULTS: CLASSICAL MUSIC\")\n",
    "\n",
    "f_oneway(classical_rating_init,classical_rating_1)"
   ]
  },
  {
   "cell_type": "code",
   "execution_count": null,
   "metadata": {},
   "outputs": [],
   "source": []
  }
 ],
 "metadata": {
  "kernelspec": {
   "display_name": "Python 3",
   "language": "python",
   "name": "python3"
  },
  "language_info": {
   "codemirror_mode": {
    "name": "ipython",
    "version": 3
   },
   "file_extension": ".py",
   "mimetype": "text/x-python",
   "name": "python",
   "nbconvert_exporter": "python",
   "pygments_lexer": "ipython3",
   "version": "3.8.5"
  }
 },
 "nbformat": 4,
 "nbformat_minor": 4
}
