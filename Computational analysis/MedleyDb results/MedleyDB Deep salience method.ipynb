{
 "cells": [
  {
   "cell_type": "code",
   "execution_count": 1,
   "metadata": {},
   "outputs": [],
   "source": [
    "from numpy import load\n",
    "import os\n",
    "import numpy as np\n",
    "import re\n",
    "import mir_eval\n",
    "import csv\n",
    "import pandas as pd\n",
    "from statistics import mean"
   ]
  },
  {
   "cell_type": "code",
   "execution_count": 2,
   "metadata": {},
   "outputs": [],
   "source": [
    "melody_file_path =\"/Users/nissimolaji/Desktop/5thyear/Dissertation/Evaluation/ismir2017-deepsalience-master/predict/outputs/melody2/\""
   ]
  },
  {
   "cell_type": "code",
   "execution_count": 3,
   "metadata": {},
   "outputs": [],
   "source": [
    "ground_truth_melody = \"/Users/nissimolaji/Desktop/5thyear/Dissertation/Evaluation/MedleyDB/Melody2/\""
   ]
  },
  {
   "cell_type": "code",
   "execution_count": 4,
   "metadata": {},
   "outputs": [],
   "source": [
    "file_p =\"/Users/nissimolaji/Desktop/5thyear/Dissertation/Evaluation/ismir2017-deepsalience-master/predict/outputs/melody2/MusicDelta_Britpop_MIX_melody2_singlef0.csv\""
   ]
  },
  {
   "cell_type": "code",
   "execution_count": 25,
   "metadata": {},
   "outputs": [],
   "source": [
    "output_arr=[]\n",
    "with open(file_p, 'r') as f:\n",
    "    reader = csv.reader(f)\n",
    "    for row in reader:\n",
    "        time_stamps = [i.split('\\t', 1)[0] for i in row]\n",
    "        freqs =   [i.split('\\t', 1)[1] for i in row]\n",
    "        \n",
    "        \n",
    "\n",
    "\n",
    "# #         [i.split('\\t', 1)[0] for i in l]\n",
    "#         print([i.split('\\t', 1)[1] for i in row])"
   ]
  },
  {
   "cell_type": "code",
   "execution_count": 27,
   "metadata": {},
   "outputs": [
    {
     "name": "stderr",
     "output_type": "stream",
     "text": [
      "<ipython-input-27-dd0846902ce4>:18: VisibleDeprecationWarning: Creating an ndarray from ragged nested sequences (which is a list-or-tuple of lists-or-tuples-or ndarrays with different lengths or shapes) is deprecated. If you meant to do this, you must specify 'dtype=object' when creating the ndarray\n",
      "  arr.append(np.array([time,freq,file]))\n"
     ]
    }
   ],
   "source": [
    "arr=[]\n",
    "for file in os.listdir(melody_file_path):\n",
    "    if not file.startswith('.'):\n",
    "        path = melody_file_path+file\n",
    "        with open(path, 'r') as f:\n",
    "            reader = csv.reader(f)\n",
    "            time=[]\n",
    "            freq=[]\n",
    "            for row in reader:\n",
    "             \n",
    "                for i in row:                   \n",
    "                    time_stamps = i.split('\\t', 1)[0] \n",
    "                    freqs =   i.split('\\t', 1)[1] \n",
    "                    if int(float(freqs))<0:\n",
    "                        freqs =0\n",
    "                    time.append(float(time_stamps))\n",
    "                    freq.append(float(freqs))\n",
    "            arr.append(np.array([time,freq,file]))\n"
   ]
  },
  {
   "cell_type": "code",
   "execution_count": 1,
   "metadata": {},
   "outputs": [],
   "source": [
    "# print(arr[0])"
   ]
  },
  {
   "cell_type": "code",
   "execution_count": 32,
   "metadata": {},
   "outputs": [],
   "source": [
    "# print(arr)"
   ]
  },
  {
   "cell_type": "code",
   "execution_count": 24,
   "metadata": {},
   "outputs": [],
   "source": [
    "import re\n",
    "import mir_eval\n",
    "import csv\n",
    "import pandas as pd\n",
    "from statistics import mean"
   ]
  },
  {
   "cell_type": "code",
   "execution_count": 29,
   "metadata": {},
   "outputs": [],
   "source": [
    "output_arr=[]\n",
    "for ground_truth in os.listdir(ground_truth_melody):\n",
    "    for melody_extracted in arr:\n",
    "        \n",
    "        if not ground_truth.startswith('.'):\n",
    "            ground_truth_filename = os.path.splitext(ground_truth)[0]\n",
    "            melody_extracted_renamed = re.sub(r'_MIX_melody2_singlef0.csv', '', melody_extracted[2], re.I)\n",
    "            ground_truth_renamed = re.sub(r'_MELODY2', '', ground_truth_filename, re.I)\n",
    "            \n",
    "            timestamps_extracted_melody = np.array(melody_extracted[0])\n",
    "#             print(type(timestamps_extracted_melody))\n",
    "            freq_extracted_melody=np.array(melody_extracted[1])\n",
    "    \n",
    "    \n",
    "            \n",
    "            if melody_extracted_renamed==ground_truth_renamed:\n",
    "                path = ground_truth_melody +ground_truth\n",
    "\n",
    "                df = pd.read_csv(path)\n",
    "                df.columns =['Timestamps', 'Freq']\n",
    "               \n",
    "                \n",
    "                timestamps_ground_truth = df['Timestamps'].tolist()\n",
    "                melody_ground_truth = df['Freq'].tolist()\n",
    "                timestamps_ground_truth= np.array(timestamps_ground_truth)\n",
    "                melody_ground_truth=np.array(melody_ground_truth)\n",
    "\n",
    "#                 print(df)\n",
    "               \n",
    "                \n",
    "                (ref_v, ref_c,est_v, est_c) = mir_eval.melody.to_cent_voicing(timestamps_ground_truth,\n",
    "                                                     melody_ground_truth,\n",
    "                                                    timestamps_extracted_melody,\n",
    "                                                    freq_extracted_melody)\n",
    "# #   Voicing Recall Rate              \n",
    "                voicing_recall_rate = mir_eval.melody.voicing_recall(ref_v, est_v)\n",
    "#     Voicing False Alarm Rate\n",
    "                voicing_false_alarm_rate=mir_eval.melody.voicing_false_alarm(ref_v, est_v)\n",
    "#   Raw Pitch Accuracy  \n",
    "                raw_pitch = mir_eval.melody.raw_pitch_accuracy(ref_v, ref_c,est_v, est_c)\n",
    "#     Raw Chroma Accuracy\n",
    "                raw_chroma = mir_eval.melody.raw_chroma_accuracy(ref_v, ref_c,est_v, est_c)\n",
    "#     Overall Accuracy\n",
    "                overall_accuracy = mir_eval.melody.overall_accuracy(ref_v, ref_c,est_v, est_c)\n",
    "                output_arr.append([melody_extracted_renamed,voicing_recall_rate,voicing_false_alarm_rate,raw_pitch,raw_chroma,overall_accuracy])\n",
    "                \n",
    "                \n",
    "\n",
    "                \n",
    "                \n",
    "                \n",
    "                \n",
    "\n",
    "                "
   ]
  },
  {
   "cell_type": "code",
   "execution_count": 30,
   "metadata": {},
   "outputs": [],
   "source": [
    "df = pd.DataFrame(output_arr,columns=['File name','Voicing Recall Rate','Voicing False Alarm Rate','Raw Pitch Accuracy','Raw Chroma Accuracy','Overall Accuracy'])"
   ]
  },
  {
   "cell_type": "code",
   "execution_count": 31,
   "metadata": {},
   "outputs": [],
   "source": [
    "voicing_recall = df['Voicing Recall Rate'].tolist()\n",
    "voicing_false= df['Voicing False Alarm Rate'].tolist()\n",
    "raw_pitch_acc = df['Raw Pitch Accuracy'].tolist()\n",
    "raw_chroma_acc=df['Raw Chroma Accuracy'].tolist()\n",
    "overall_acc=df['Overall Accuracy'].tolist()\n"
   ]
  },
  {
   "cell_type": "code",
   "execution_count": 32,
   "metadata": {},
   "outputs": [],
   "source": [
    "average_voicing_recall = mean(voicing_recall)\n",
    "average_voicing_false = mean(voicing_false)\n",
    "average_raw_pitch_accuracy=mean(raw_pitch_acc)\n",
    "average_raw_chroma_accuracy= mean(raw_chroma_acc)\n",
    "average_overall_accuracy= mean(overall_acc)"
   ]
  },
  {
   "cell_type": "code",
   "execution_count": 33,
   "metadata": {},
   "outputs": [],
   "source": [
    "results = [average_voicing_recall,average_voicing_false,average_raw_pitch_accuracy,average_raw_chroma_accuracy,average_overall_accuracy]"
   ]
  },
  {
   "cell_type": "code",
   "execution_count": 34,
   "metadata": {},
   "outputs": [],
   "source": [
    "df = pd.DataFrame(results,index=['Avg Voicing Recall Rate','Avg Voicing False Alarm Rate','Avg Raw Pitch Accuracy','Avg Raw Chroma Accuracy','Avg Overall Accuracy'])"
   ]
  },
  {
   "cell_type": "code",
   "execution_count": 35,
   "metadata": {},
   "outputs": [
    {
     "data": {
      "text/html": [
       "<div>\n",
       "<style scoped>\n",
       "    .dataframe tbody tr th:only-of-type {\n",
       "        vertical-align: middle;\n",
       "    }\n",
       "\n",
       "    .dataframe tbody tr th {\n",
       "        vertical-align: top;\n",
       "    }\n",
       "\n",
       "    .dataframe thead th {\n",
       "        text-align: right;\n",
       "    }\n",
       "</style>\n",
       "<table border=\"1\" class=\"dataframe\">\n",
       "  <thead>\n",
       "    <tr style=\"text-align: right;\">\n",
       "      <th></th>\n",
       "      <th>0</th>\n",
       "    </tr>\n",
       "  </thead>\n",
       "  <tbody>\n",
       "    <tr>\n",
       "      <th>Avg Voicing Recall Rate</th>\n",
       "      <td>0.673081</td>\n",
       "    </tr>\n",
       "    <tr>\n",
       "      <th>Avg Voicing False Alarm Rate</th>\n",
       "      <td>0.269724</td>\n",
       "    </tr>\n",
       "    <tr>\n",
       "      <th>Avg Raw Pitch Accuracy</th>\n",
       "      <td>0.557460</td>\n",
       "    </tr>\n",
       "    <tr>\n",
       "      <th>Avg Raw Chroma Accuracy</th>\n",
       "      <td>0.584868</td>\n",
       "    </tr>\n",
       "    <tr>\n",
       "      <th>Avg Overall Accuracy</th>\n",
       "      <td>0.626799</td>\n",
       "    </tr>\n",
       "  </tbody>\n",
       "</table>\n",
       "</div>"
      ],
      "text/plain": [
       "                                     0\n",
       "Avg Voicing Recall Rate       0.673081\n",
       "Avg Voicing False Alarm Rate  0.269724\n",
       "Avg Raw Pitch Accuracy        0.557460\n",
       "Avg Raw Chroma Accuracy       0.584868\n",
       "Avg Overall Accuracy          0.626799"
      ]
     },
     "execution_count": 35,
     "metadata": {},
     "output_type": "execute_result"
    }
   ],
   "source": [
    "df"
   ]
  }
 ],
 "metadata": {
  "kernelspec": {
   "display_name": "Python 3",
   "language": "python",
   "name": "python3"
  },
  "language_info": {
   "codemirror_mode": {
    "name": "ipython",
    "version": 3
   },
   "file_extension": ".py",
   "mimetype": "text/x-python",
   "name": "python",
   "nbconvert_exporter": "python",
   "pygments_lexer": "ipython3",
   "version": "3.8.5"
  }
 },
 "nbformat": 4,
 "nbformat_minor": 4
}
