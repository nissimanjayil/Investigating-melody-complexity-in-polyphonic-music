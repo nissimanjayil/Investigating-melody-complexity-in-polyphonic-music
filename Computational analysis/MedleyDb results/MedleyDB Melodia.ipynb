{
 "cells": [
  {
   "cell_type": "code",
   "execution_count": 2,
   "metadata": {},
   "outputs": [
    {
     "name": "stderr",
     "output_type": "stream",
     "text": [
      "<ipython-input-2-1851fbf06795>:16: DeprecationWarning: Please use `pearsonr` from the `scipy.stats` namespace, the `scipy.stats.stats` namespace is deprecated.\n",
      "  from scipy.stats.stats import pearsonr\n"
     ]
    }
   ],
   "source": [
    "import vamp\n",
    "import librosa\n",
    "import sys\n",
    "sys.path.append(\"/usr/local/lib/python3.8/site-packages\")\n",
    "import essentia.standard as es\n",
    "import numpy as np\n",
    "import spleeter\n",
    "import pydub\n",
    "\n",
    "import matplotlib.pyplot as plt\n",
    "%matplotlib inline\n",
    "from __future__ import print_function\n",
    "from mido import MidiFile,MidiTrack\n",
    "from midi2audio import FluidSynth\n",
    "from collections import Counter\n",
    "from scipy.stats.stats import pearsonr\n",
    "import os\n",
    "import numpy\n",
    "from scipy.stats import pearsonr\n",
    "import matplotlib.pyplot as plt\n",
    "from scipy.io import wavfile\n"
   ]
  },
  {
   "cell_type": "code",
   "execution_count": 3,
   "metadata": {},
   "outputs": [],
   "source": [
    "class Melodia:\n",
    "    \n",
    "    def melodia_plugin(self,audio_file):\n",
    "        # This is how we load audio using Essentia\n",
    "        loader = es.MonoLoader(filename=audio_file, downmix = 'mix', sampleRate = 44100)\n",
    "        audio = loader()\n",
    "        # This is how we load audio using Librosa\n",
    "        audio, sr = librosa.load(audio_file, sr=44100, mono=True)\n",
    "#         print(sr)\n",
    "        data = vamp.collect(audio, sr, \"mtg-melodia:melodia\")\n",
    "        # parameter values are specified by providing a dicionary to the optional \"parameters\" parameter:\n",
    "        params = {\"minfqr\": 100.0, \"maxfqr\": 800.0, \"voicing\": 0.2, \"minpeaksalience\": 0.0}\n",
    "\n",
    "        data = vamp.collect(audio, sr, \"mtg-melodia:melodia\", parameters=params)\n",
    "        hop, melody = data['vector']\n",
    "#         print(len(melody))\n",
    "        timestamps = 8 * 128/44100.0 + np.arange(len(melody)) * (128/44100.0)\n",
    "        melody_pos = melody[:]\n",
    "        melody_pos[melody<=0] = 0\n",
    "        melody_data = []\n",
    "#         self.plot_melody(timestamps,melody,audio_file)\n",
    "        return timestamps,melody_pos,audio_file\n",
    "    \n",
    "    def plot_melody(self,timestamps,melody,audio_file):\n",
    "        melody_pos = melody[:]\n",
    "        melody_pos[melody<=0] = None\n",
    "        plt.figure(figsize=(18,6))\n",
    "        plt.plot(timestamps, melody_pos)\n",
    "        plt.title(audio_file)\n",
    "        plt.xlabel('Time (s)')\n",
    "        plt.ylabel('Frequency (Hz)')\n",
    "        return plt.show()"
   ]
  },
  {
   "cell_type": "code",
   "execution_count": 4,
   "metadata": {},
   "outputs": [],
   "source": [
    "file_path = \"/Users/nissimolaji/Desktop/5thyear/Dissertation/Evaluation/MedleyDB/V1/\""
   ]
  },
  {
   "cell_type": "code",
   "execution_count": null,
   "metadata": {},
   "outputs": [],
   "source": [
    "melodia = Melodia()\n",
    "arr=[]\n",
    "for file in os.listdir(file_path):\n",
    "    if not file.startswith('.'):\n",
    "        file_name = os.path.splitext(file)[0]\n",
    "        \n",
    "        path = file_path +file_name+\"/\"\n",
    "        for file in os.listdir(path):\n",
    "            if not file.startswith('.'):\n",
    "#                 print(file)\n",
    "                \n",
    "                timestamps,melody_pos,audio_file=melodia.melodia_plugin(path+file)\n",
    "                arr.append([timestamps,melody_pos,file])\n",
    "#                 print(audio_file)\n",
    "                \n",
    "                \n",
    "# "
   ]
  },
  {
   "cell_type": "code",
   "execution_count": 6,
   "metadata": {},
   "outputs": [],
   "source": [
    "file_path_melody = \"/Users/nissimolaji/Desktop/5thyear/Dissertation/Evaluation/MedleyDB/Melody2\""
   ]
  },
  {
   "cell_type": "code",
   "execution_count": null,
   "metadata": {},
   "outputs": [],
   "source": [
    "import re\n",
    "import mir_eval\n",
    "import csv\n",
    "import pandas as pd\n",
    "from statistics import mean"
   ]
  },
  {
   "cell_type": "code",
   "execution_count": 90,
   "metadata": {},
   "outputs": [],
   "source": [
    "output_arr=[]\n",
    "for ground_truth in os.listdir(file_path_melody):\n",
    "    for melody_extracted in arr:\n",
    "        \n",
    "        if not ground_truth.startswith('.'):\n",
    "            ground_truth_filename = os.path.splitext(ground_truth)[0]\n",
    "            melody_extracted_renamed = re.sub(r'_MIX.wav', '', melody_extracted[2], re.I)\n",
    "            ground_truth_renamed = re.sub(r'_MELODY1', '', ground_truth_filename, re.I)\n",
    "            \n",
    "            \n",
    "            timestamps_extracted_melody = melody_extracted[0]\n",
    "            freq_extracted_melody=melody_extracted[1]\n",
    "            \n",
    "            if melody_extracted_renamed==ground_truth_renamed:\n",
    "                path = file_path_melody +ground_truth\n",
    "\n",
    "                df = pd.read_csv(path)\n",
    "                df.columns =['Timestamps', 'Freq']\n",
    "                \n",
    "                timestamps_ground_truth = df['Timestamps'].tolist()\n",
    "                melody_ground_truth = df['Freq'].tolist()\n",
    "                \n",
    "                (ref_v, ref_c,est_v, est_c) = mir_eval.melody.to_cent_voicing(timestamps_ground_truth,\n",
    "                                                     melody_ground_truth,\n",
    "                                                    timestamps_extracted_melody,\n",
    "                                                    freq_extracted_melody)\n",
    "#   Voicing Recall Rate              \n",
    "                voicing_recall_rate = mir_eval.melody.voicing_recall(ref_v, est_v)\n",
    "#     Voicing False Alarm Rate\n",
    "                voicing_false_alarm_rate=mir_eval.melody.voicing_false_alarm(ref_v, est_v)\n",
    "#   Raw Pitch Accuracy  \n",
    "                raw_pitch = mir_eval.melody.raw_pitch_accuracy(ref_v, ref_c,est_v, est_c)\n",
    "#     Raw Chroma Accuracy\n",
    "                raw_chroma = mir_eval.melody.raw_chroma_accuracy(ref_v, ref_c,est_v, est_c)\n",
    "#     Overall Accuracy\n",
    "                overall_accuracy = mir_eval.melody.overall_accuracy(ref_v, ref_c,est_v, est_c)\n",
    "                output_arr.append([melody_extracted_renamed,voicing_recall_rate,voicing_false_alarm_rate,raw_pitch,raw_chroma,overall_accuracy])\n",
    "                \n",
    "                \n",
    "\n",
    "                \n",
    "                \n",
    "                \n",
    "                \n",
    "\n",
    "                "
   ]
  },
  {
   "cell_type": "code",
   "execution_count": 91,
   "metadata": {},
   "outputs": [],
   "source": [
    "df = pd.DataFrame(output_arr,columns=['File name','Voicing Recall Rate','Voicing False Alarm Rate','Raw Pitch Accuracy','Raw Chroma Accuracy','Overall Accuracy'])"
   ]
  },
  {
   "cell_type": "code",
   "execution_count": 94,
   "metadata": {},
   "outputs": [],
   "source": [
    "voicing_recall = df['Voicing Recall Rate'].tolist()\n",
    "voicing_false= df['Voicing False Alarm Rate'].tolist()\n",
    "raw_pitch_acc = df['Raw Pitch Accuracy'].tolist()\n",
    "raw_chroma_acc=df['Raw Chroma Accuracy'].tolist()\n",
    "overall_acc=df['Overall Accuracy'].tolist()\n"
   ]
  },
  {
   "cell_type": "code",
   "execution_count": 96,
   "metadata": {},
   "outputs": [],
   "source": [
    "average_voicing_recall = mean(voicing_recall)\n",
    "average_voicing_false = mean(voicing_false)\n",
    "average_raw_pitch_accuracy=mean(raw_pitch_acc)\n",
    "average_raw_chroma_accuracy= mean(raw_chroma_acc)\n",
    "average_overall_accuracy= mean(overall_acc)"
   ]
  },
  {
   "cell_type": "code",
   "execution_count": 100,
   "metadata": {},
   "outputs": [],
   "source": [
    "results = [average_voicing_recall,average_voicing_false,average_raw_pitch_accuracy,average_raw_chroma_accuracy,average_overall_accuracy]"
   ]
  },
  {
   "cell_type": "code",
   "execution_count": 106,
   "metadata": {},
   "outputs": [],
   "source": [
    "df = pd.DataFrame(results,index=['Avg Voicing Recall Rate','Avg Voicing False Alarm Rate','Avg Raw Pitch Accuracy','Avg Raw Chroma Accuracy','Avg Overall Accuracy'])"
   ]
  },
  {
   "cell_type": "code",
   "execution_count": 107,
   "metadata": {},
   "outputs": [
    {
     "data": {
      "text/html": [
       "<div>\n",
       "<style scoped>\n",
       "    .dataframe tbody tr th:only-of-type {\n",
       "        vertical-align: middle;\n",
       "    }\n",
       "\n",
       "    .dataframe tbody tr th {\n",
       "        vertical-align: top;\n",
       "    }\n",
       "\n",
       "    .dataframe thead th {\n",
       "        text-align: right;\n",
       "    }\n",
       "</style>\n",
       "<table border=\"1\" class=\"dataframe\">\n",
       "  <thead>\n",
       "    <tr style=\"text-align: right;\">\n",
       "      <th></th>\n",
       "      <th>0</th>\n",
       "    </tr>\n",
       "  </thead>\n",
       "  <tbody>\n",
       "    <tr>\n",
       "      <th>Avg Voicing Recall Rate</th>\n",
       "      <td>0.755032</td>\n",
       "    </tr>\n",
       "    <tr>\n",
       "      <th>Avg Voicing False Alarm Rate</th>\n",
       "      <td>0.356327</td>\n",
       "    </tr>\n",
       "    <tr>\n",
       "      <th>Avg Raw Pitch Accuracy</th>\n",
       "      <td>0.494986</td>\n",
       "    </tr>\n",
       "    <tr>\n",
       "      <th>Avg Raw Chroma Accuracy</th>\n",
       "      <td>0.577532</td>\n",
       "    </tr>\n",
       "    <tr>\n",
       "      <th>Avg Overall Accuracy</th>\n",
       "      <td>0.546357</td>\n",
       "    </tr>\n",
       "  </tbody>\n",
       "</table>\n",
       "</div>"
      ],
      "text/plain": [
       "                                     0\n",
       "Avg Voicing Recall Rate       0.755032\n",
       "Avg Voicing False Alarm Rate  0.356327\n",
       "Avg Raw Pitch Accuracy        0.494986\n",
       "Avg Raw Chroma Accuracy       0.577532\n",
       "Avg Overall Accuracy          0.546357"
      ]
     },
     "execution_count": 107,
     "metadata": {},
     "output_type": "execute_result"
    }
   ],
   "source": [
    "df"
   ]
  },
  {
   "cell_type": "code",
   "execution_count": null,
   "metadata": {},
   "outputs": [],
   "source": []
  }
 ],
 "metadata": {
  "kernelspec": {
   "display_name": "Python 3",
   "language": "python",
   "name": "python3"
  },
  "language_info": {
   "codemirror_mode": {
    "name": "ipython",
    "version": 3
   },
   "file_extension": ".py",
   "mimetype": "text/x-python",
   "name": "python",
   "nbconvert_exporter": "python",
   "pygments_lexer": "ipython3",
   "version": "3.8.5"
  }
 },
 "nbformat": 4,
 "nbformat_minor": 4
}
