{
 "cells": [
  {
   "cell_type": "code",
   "execution_count": 2,
   "metadata": {},
   "outputs": [],
   "source": [
    "import pandas as pd\n",
    "from ast import literal_eval\n",
    "from scipy.stats import f_oneway\n",
    "import numpy as np"
   ]
  },
  {
   "cell_type": "code",
   "execution_count": 3,
   "metadata": {},
   "outputs": [],
   "source": [
    "# Change th dataset\n",
    "df = pd.read_csv('/Users/nissimolaji/Desktop/5thyear/Dissertation/Evaluation/Evaluation_output/not max track/DeepSalience/Jazz/jazzDSCORRL302.csv')\n"
   ]
  },
  {
   "cell_type": "code",
   "execution_count": 4,
   "metadata": {},
   "outputs": [],
   "source": [
    "# Max correlation\n",
    "def get_max_corr(df):  \n",
    "    Corrs=df['Correlations'].to_numpy()\n",
    "    output_arr=[]\n",
    "    for arr in Corrs:\n",
    "        new_arr = arr.strip('[')\n",
    "        new_arr = new_arr.strip(']')\n",
    "          \n",
    "        if len(new_arr)>0:\n",
    "            convert_float=new_arr.split(',')\n",
    "            corrs_float=[float(i) for i in convert_float]\n",
    "\n",
    "            data =[]\n",
    "            for j in corrs_float:\n",
    "                data.append(float(j))  \n",
    "                \n",
    "        output_arr.append(max(data))\n",
    "    a = np.array(output_arr)\n",
    "    x = a[~np.isnan(a)]\n",
    "    return x"
   ]
  },
  {
   "cell_type": "code",
   "execution_count": 5,
   "metadata": {},
   "outputs": [],
   "source": [
    "# Least correlation\n",
    "def get_min_corr(df):  \n",
    "    Corrs=df['Correlations'].to_numpy()\n",
    "    output_arr=[]\n",
    "    for arr in Corrs:\n",
    "        new_arr = arr.strip('[')\n",
    "        new_arr = new_arr.strip(']')\n",
    "          \n",
    "        if len(new_arr)>0:\n",
    "            convert_float=new_arr.split(',')\n",
    "            corrs_float=[float(i) for i in convert_float]\n",
    "\n",
    "            data =[]\n",
    "            for j in corrs_float:\n",
    "                data.append(float(j))  \n",
    "                \n",
    "        output_arr.append(min(data))\n",
    "    a = np.array(output_arr)\n",
    "    x = a[~np.isnan(a)]\n",
    "    return x"
   ]
  },
  {
   "cell_type": "code",
   "execution_count": 26,
   "metadata": {},
   "outputs": [
    {
     "data": {
      "text/plain": [
       "F_onewayResult(statistic=4.0742649844330545, pvalue=0.04817337617899372)"
      ]
     },
     "execution_count": 26,
     "metadata": {},
     "output_type": "execute_result"
    }
   ],
   "source": [
    "initial_iteration = df[df['Iterations']=='initial iteration']\n",
    "iteration1=df[df['Iterations']=='iteration1']\n",
    "iteration2=df[df['Iterations']=='iteration2']\n",
    "iteration3=df[df['Iterations']=='iteration3']\n",
    "init_corr=get_max_corr(initial_iteration)\n",
    "it1_corr=get_max_corr(iteration1)\n",
    "it2_corr=get_max_corr(iteration2)\n",
    "it3_corr=get_max_corr(iteration3)\n",
    "# f_oneway(init_corr,it1_corr,it2_corr,it3_corr)\n",
    "f_oneway(init_corr,it1_corr)"
   ]
  },
  {
   "cell_type": "code",
   "execution_count": 6,
   "metadata": {},
   "outputs": [
    {
     "data": {
      "text/plain": [
       "F_onewayResult(statistic=19.98716496064582, pvalue=1.6386375051480025e-10)"
      ]
     },
     "execution_count": 6,
     "metadata": {},
     "output_type": "execute_result"
    }
   ],
   "source": [
    "initial_iteration = df[df['Iterations']=='initial iteration']\n",
    "iteration1=df[df['Iterations']=='iteration1']\n",
    "iteration2=df[df['Iterations']=='iteration2']\n",
    "iteration3=df[df['Iterations']=='iteration3']\n",
    "init_corr=get_min_corr(initial_iteration)\n",
    "it1_corr=get_min_corr(iteration1)\n",
    "it2_corr=get_min_corr(iteration2)\n",
    "it3_corr=get_min_corr(iteration3)\n",
    "f_oneway(init_corr,it1_corr,it2_corr,it3_corr)\n",
    "# f_oneway(init_corr,it1_corr)"
   ]
  },
  {
   "cell_type": "code",
   "execution_count": 42,
   "metadata": {},
   "outputs": [],
   "source": [
    "corr =  df['Correlations'].to_numpy()\n",
    "iterations = df['Iterations'].to_numpy()\n"
   ]
  },
  {
   "cell_type": "code",
   "execution_count": 28,
   "metadata": {},
   "outputs": [
    {
     "data": {
      "text/plain": [
       "(4, 120)"
      ]
     },
     "execution_count": 28,
     "metadata": {},
     "output_type": "execute_result"
    }
   ],
   "source": [
    "k = len(pd.unique(iterations))\n",
    "n = pd.crosstab(corr,iterations).sum().sum()\n",
    "k,n"
   ]
  },
  {
   "cell_type": "code",
   "execution_count": 29,
   "metadata": {},
   "outputs": [
    {
     "data": {
      "text/plain": [
       "(3, 116, 119)"
      ]
     },
     "execution_count": 29,
     "metadata": {},
     "output_type": "execute_result"
    }
   ],
   "source": [
    "dfBetween = k-1\n",
    "dfwithin=n-k\n",
    "dfTotal = n-1\n",
    "\n",
    "dfBetween,dfwithin,dfTotal"
   ]
  }
 ],
 "metadata": {
  "kernelspec": {
   "display_name": "Python 3",
   "language": "python",
   "name": "python3"
  },
  "language_info": {
   "codemirror_mode": {
    "name": "ipython",
    "version": 3
   },
   "file_extension": ".py",
   "mimetype": "text/x-python",
   "name": "python",
   "nbconvert_exporter": "python",
   "pygments_lexer": "ipython3",
   "version": "3.8.5"
  }
 },
 "nbformat": 4,
 "nbformat_minor": 4
}
